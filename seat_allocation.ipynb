{
  "cells": [
    {
      "cell_type": "markdown",
      "metadata": {
        "id": "xzaKJISMn4Av"
      },
      "source": [
        "# レストラン人配置問題をアニーリングマシンで解く"
      ]
    },
    {
      "cell_type": "markdown",
      "metadata": {
        "id": "p98gdI6sn7Z0"
      },
      "source": [
        "## 事前準備"
      ]
    },
    {
      "cell_type": "markdown",
      "metadata": {
        "id": "AR7kB3mSR2aj"
      },
      "source": [
        "### ライブラリのインストール"
      ]
    },
    {
      "cell_type": "code",
      "execution_count": 1,
      "metadata": {
        "id": "6iFUTYGOP2HJ",
        "colab": {
          "base_uri": "https://localhost:8080/"
        },
        "outputId": "102024b7-a74c-4b44-fe7f-bf153263aa37"
      },
      "outputs": [
        {
          "output_type": "stream",
          "name": "stdout",
          "text": [
            "\u001b[K     |████████████████████████████████| 7.6 MB 9.9 MB/s \n",
            "\u001b[?25h"
          ]
        }
      ],
      "source": [
        "! pip install -q amplify"
      ]
    },
    {
      "cell_type": "code",
      "execution_count": 50,
      "metadata": {
        "id": "LII5U9LCERlM"
      },
      "outputs": [],
      "source": [
        "# 必要なライブラリの読み込み\n",
        "import matplotlib.pyplot as plt\n",
        "import numpy as np\n",
        "import itertools\n",
        "from typing import List\n",
        "from IPython.display import clear_output\n",
        "\n",
        "from amplify import BinarySymbolGenerator\n",
        "from amplify.constraint import one_hot, equal_to, less_equal\n",
        "# from typing_extensions import ParamSpec\n",
        "from amplify.client import FixstarsClient, FixstarsClientParametersOutputs\n",
        "from amplify import Solver"
      ]
    },
    {
      "cell_type": "markdown",
      "metadata": {
        "id": "TSpWmNzlR2a6"
      },
      "source": [
        "### ライセンス確認\n",
        "\n",
        "本プログラムはFixstar Amplify社が提供するSDKを利用します。利用にあたってはトークンが必要になりますので，以下のサイトより入手ください。本プログラムの実行には無料版のプランで十分です。\n",
        "\n",
        "- [Fixstar Amplify](https://amplify.fixstars.com/ja/)"
      ]
    },
    {
      "cell_type": "code",
      "execution_count": 51,
      "metadata": {
        "id": "94Wf_F_NR2a-"
      },
      "outputs": [],
      "source": [
        "FIXSTAR_CLIENT_TOKEN = input(\"PASTE YOUR TOKEN CODE: \")\n",
        "assert FIXSTAR_CLIENT_TOKEN\n",
        "clear_output()"
      ]
    },
    {
      "cell_type": "markdown",
      "metadata": {
        "id": "pr5jEd10oCXm"
      },
      "source": [
        "## ユーティリティ関数の定義\n",
        "\n",
        "後々必要になる補助関数を用意しておきます。"
      ]
    },
    {
      "cell_type": "code",
      "execution_count": 52,
      "metadata": {
        "id": "dJm7is2JEYWk"
      },
      "outputs": [],
      "source": [
        "def draw_table_layout(tables, xmax=10, ymax=10, figsize=(6, 6)):\n",
        "    \"\"\"\n",
        "    テーブル配置の描画\n",
        "    \"\"\"\n",
        "    fig = plt.figure(figsize = figsize)\n",
        "    ax = fig.add_subplot(111)\n",
        "    ax.set_xlim(0, xmax=xmax)\n",
        "    ax.set_ylim(0, ymax=ymax)\n",
        "\n",
        "    for key, vals in enumerate(tables):\n",
        "        x, y = vals\n",
        "        ratio_min = y / ymax\n",
        "        ratio_max = (y+1) / ymax\n",
        "        # yは相対座標で指定する\n",
        "        ax.axvspan(x, x+1, ymin=ratio_min, ymax=ratio_max, color=\"gray\", alpha=0.4)\n",
        "        ax.text(x+0.5, y+0.5, str(key))\n",
        "    return fig, ax\n",
        "\n",
        "def calc_center_point_map(tables: dict) -> List:\n",
        "    \"\"\"\n",
        "    各テーブルの中心点取得\n",
        "    \"\"\"\n",
        "    table_ids = range(len(tables))\n",
        "    num_tables = len(tables)\n",
        "    centers = [[coord[0] + 0.5, coord[1] + 0.5] for coord in tables]\n",
        "    return centers\n",
        "\n",
        "def group_member_indexes(customer_groups):\n",
        "    \"\"\"\n",
        "    顧客のインデックスに変換する\n",
        "    \"\"\"\n",
        "    i = 0\n",
        "    indexes = []\n",
        "    for x in customer_groups:\n",
        "        indexes.append(list(range(i, i+x)))\n",
        "        i += x\n",
        "    return indexes\n",
        "\n",
        "def member_index_to_group(index, customer_groups):\n",
        "    \"\"\"\n",
        "     マトリックスインデックスから顧客グループIDを取得する\n",
        "    \"\"\"\n",
        "    num = 0\n",
        "    for i, x in enumerate(customer_groups):\n",
        "        num += x\n",
        "        if num - 1 >= index:\n",
        "            return i\n",
        "\n",
        "def group_table_indexes(table_groups):\n",
        "    \"\"\"\n",
        "    テーブルのインデックスに変換する\n",
        "    \"\"\"\n",
        "    return list(table_groups.values())\n",
        "\n",
        "\n",
        "def generate_color_map(customer_groups):\n",
        "    \"\"\"\n",
        "    顧客グループごとのカラーマップを取得する\n",
        "    \"\"\"\n",
        "    cycle = plt.rcParams['axes.prop_cycle'].by_key()['color']\n",
        "    dic = {i:cycle[i]  for i, num in enumerate(customer_groups)}\n",
        "    return dic\n",
        "\n",
        "\n",
        "def draw_solutions(solution, tables, customer_groups, xmax=10, ymax=10, figsize=(6, 6)):\n",
        "    \"\"\"\n",
        "    結果の描画\n",
        "    \"\"\"\n",
        "    fig = plt.figure(figsize = figsize)\n",
        "    ax = fig.add_subplot(111)\n",
        "    ax.set_xlim(0, xmax=xmax)\n",
        "    ax.set_ylim(0, ymax=ymax)\n",
        "\n",
        "    for key, vals in enumerate(tables):\n",
        "        x, y = vals\n",
        "        ratio_min = y / ymax\n",
        "        ratio_max = (y+1) / ymax\n",
        "        # yは相対座標で指定する\n",
        "        ax.axvspan(x, x+1, ymin=ratio_min, ymax=ratio_max, color=\"gray\", alpha=0.4)\n",
        "        ax.text(x+0.5, y+0.5, str(key))\n",
        "    \n",
        "\n",
        "    rows, cols = np.where(solution==1)\n",
        "    color_map = generate_color_map(customer_groups)\n",
        "    for i, j in zip(rows, cols):\n",
        "        group_idx =  member_index_to_group(j, customer_groups)\n",
        "        color = color_map[group_idx]\n",
        "\n",
        "        table_x, table_y = tables[i]\n",
        "        ratio_min = table_y / ymax\n",
        "        ratio_max = (table_y+1) / ymax\n",
        "        # yは相対座標で指定する\n",
        "        ax.axvspan(table_x, table_x+1, ymin=ratio_min, ymax=ratio_max, color=color)\n",
        "\n",
        "        ax.text(table_x, table_y+0.5, f\"g{group_idx}\")\n",
        "\n",
        "    return fig, ax\n",
        "\n"
      ]
    },
    {
      "cell_type": "markdown",
      "metadata": {
        "id": "VYKNp5JlpPy4"
      },
      "source": [
        "## 問題設定\n",
        "\n",
        "複数のお客さんグループをなるべく効率的にテーブルに配置させるという問題を考えます。\n",
        "\n",
        "「効率的に」とは以下の条件を満たすことを指すこととします。\n",
        "\n",
        "- １．テーブルの座席数をなるべく埋める（４人掛けのテーブルにはなるべく４人グループを割り当てる）\n",
        "- ２．グループが同じ人はなるべく近いテーブルに座らせる\n",
        "- ３．他のグループとの距離はなるべく離す\n",
        "\n",
        "後で以上の条件を数式に落とし込んでいきます。"
      ]
    },
    {
      "cell_type": "code",
      "execution_count": 75,
      "metadata": {
        "colab": {
          "base_uri": "https://localhost:8080/",
          "height": 413
        },
        "id": "jRxu5oXzFMy_",
        "outputId": "0b4ef442-5ad6-4ad4-e667-70d1731384fe"
      },
      "outputs": [
        {
          "output_type": "stream",
          "name": "stdout",
          "text": [
            "customer numbers: 19, table numbers: 21\n",
            "customer group members: [2, 3, 8, 6]\n"
          ]
        },
        {
          "output_type": "display_data",
          "data": {
            "image/png": "[encoded data removed]",
            "text/plain": [
              "<Figure size 432x432 with 1 Axes>"
            ]
          },
          "metadata": {
            "needs_background": "light"
          }
        }
      ],
      "source": [
        "# 各テーブルの位置を指定します。テーブルの左下の座標を指定しています。\n",
        "tables = [ [0,1], [1,1], [1,3], [1,4], [1,5], [4,0], [4,1], [6,0], [6,1],  [7,0],  [7,1],  [8,0],  [8,1],  [4,4],  [4,5],  [5,4],  [5,5],  [7,4],  [7,5],  [8,4],  [8,5]]\n",
        "\n",
        "# テーブルのグループを指定します。\n",
        "table_groups = {\n",
        "    \"A\": [0, 1],\n",
        "    \"B\": [2, 3, 4],\n",
        "    \"C\": [5, 6],\n",
        "    \"D\": [7, 8, 9, 10, 11, 12],\n",
        "    \"E\": [13, 14, 15, 16],\n",
        "    \"F\": [17, 18, 19, 20]\n",
        "}\n",
        "\n",
        "# お客さんのグループを指定します。数値は何人のグループかを表しています。\n",
        "customer_groups = [\n",
        "    (2),\n",
        "    (3),\n",
        "    (8),\n",
        "    (6)\n",
        "]\n",
        "\n",
        "Nc = sum([x for x in customer_groups])\n",
        "Nt = len(tables)\n",
        "print(f\"customer numbers: {Nc}, table numbers: {Nt}\")\n",
        "print(f\"customer group members: {customer_groups}\")\n",
        "\n",
        "fig, ax = draw_table_layout(tables)\n",
        "plt.show()"
      ]
    },
    {
      "cell_type": "markdown",
      "metadata": {
        "id": "lRkD8L2IpTms"
      },
      "source": [
        "## イジングモデル設計\n",
        "\n",
        "イジングモデルを設計するために以下を実施します。\n",
        "\n",
        "- 決定変数の定義\n",
        "- 制約条件の定義\n",
        "- 目的関数の定義"
      ]
    },
    {
      "cell_type": "markdown",
      "source": [
        "### 決定変数\n",
        "\n",
        "イジングモデルで扱える変数を設定します。ここでは，（各テーブルの数）×（人の数）のマトリックスqを用意し，i番目のテーブルにj番目の人が座れば $q_{ij}=1$，座らなければ $q_{ij}=0$ と定義します。\n"
      ],
      "metadata": {
        "id": "G5W8LmEObFDq"
      }
    },
    {
      "cell_type": "code",
      "execution_count": 76,
      "metadata": {
        "id": "9zrJC2xTMvCs"
      },
      "outputs": [],
      "source": [
        "# 決定変数を (N_table x N_customers) の配列の形式で定義\n",
        "gen = BinarySymbolGenerator()\n",
        "q = gen.array(Nt, Nc)"
      ]
    },
    {
      "cell_type": "markdown",
      "metadata": {
        "id": "RPfWR4NMqJnI"
      },
      "source": [
        "### 制約条件\n",
        "\n",
        "実現可能な解を出すため，以下２つの制約条件を設定します。\n",
        "\n",
        "- 制約１：一人は必ず１つのテーブルを割り当てる\n",
        "- 制約２：一つのテーブルには一人以下しか割り当てない\n"
      ]
    },
    {
      "cell_type": "markdown",
      "metadata": {
        "id": "fSNY04BQ6KQ5"
      },
      "source": [
        "$N_c$を人の総数とすると，制約条件１は以下のように表せます。\n",
        "\n",
        "$$\n",
        "\\sum_{i=0}^{N_t - 1}q_{i, j} = 1\n",
        "\\quad\n",
        "\\text{for  }  \\ j \\in \\{0, \\cdots, N_c - 1\\}\n",
        "$$"
      ]
    },
    {
      "cell_type": "code",
      "execution_count": 77,
      "metadata": {
        "id": "502t_yGfWCUz"
      },
      "outputs": [],
      "source": [
        "# 一人は一つのテーブル\n",
        "table_constraints = [one_hot(q[:, j]) for j in range(Nc)]"
      ]
    },
    {
      "cell_type": "markdown",
      "metadata": {
        "id": "40Z8a0Pa7YlW"
      },
      "source": [
        "$N_t$をテーブルの総数とすると，制約条件2は以下のように表せます。\n",
        "\n",
        "$$\n",
        "\\sum_{j=0}^{N_c - 1} q_{i, j}< 1 \\quad \\text{for  }  \\ i \\in \\{0, \\cdots, N_t - 1\\}\n",
        "$$"
      ]
    },
    {
      "cell_type": "code",
      "execution_count": 78,
      "metadata": {
        "id": "4C4TEAayWxv8"
      },
      "outputs": [],
      "source": [
        "# 一つのテーブルには一人\n",
        "overlap_constraints = [less_equal(q[i, :], 1) for i in range(Nt)]"
      ]
    },
    {
      "cell_type": "markdown",
      "metadata": {
        "id": "6MdlTMJwqNZi"
      },
      "source": [
        "### 目的関数\n",
        "\n",
        "以降では問題設定の箇所でも示した，「効率的な配置」について数式に落とし込んでいきます。\n",
        "\n",
        "再掲しますが，「効率的な配置」とは以下のように定義しました。\n",
        "\n",
        "- １．テーブルの座席数をなるべく埋める（４人掛けのテーブルにはなるべく４人グループを割り当てる）\n",
        "- ２．グループが同じ人はなるべく近いテーブルに座らせる\n",
        "- ３．他のグループとの距離はなるべく離す"
      ]
    },
    {
      "cell_type": "markdown",
      "source": [
        "#### １．テーブルをなるべく埋める"
      ],
      "metadata": {
        "id": "mcde4rOEfHR_"
      }
    },
    {
      "cell_type": "markdown",
      "metadata": {
        "id": "IDY8fyIW8Xgm"
      },
      "source": [
        "各テーブルは島を作っています。（４人席，６人席など）各島を${i_g}$とし，島に配置されたテーブルの数を$N_{i_g}$とします。この時，テーブルになるべく詰めるという条件は以下のように表せます。\n",
        "\n",
        "$$\n",
        "\\min ( \\sum_{i_g} \\lbrace \\lbrack - \\sum_{i \\in i_g} \\sum_{j} q_{i, j} + N_{i_g}  \\rbrack \\cdot \\sum_{i \\in i_g} \\sum_{j} q_{i, j} \\rbrace) \\quad \n",
        "$$\n",
        "\n",
        "ここで，minの中で$\\sum_{i \\in i_g} \\sum_{j} q_{i, j}$をかけているのは，ひとが一人も配置されなかった時のペナルティを０にするためです。\n"
      ]
    },
    {
      "cell_type": "code",
      "execution_count": 79,
      "metadata": {
        "id": "SSng5RsYpxLO"
      },
      "outputs": [],
      "source": [
        "# テーブルにはなるべく詰める\n",
        "g_table_indexes = group_table_indexes(table_groups)\n",
        "table_functions = []\n",
        "for idxs in g_table_indexes:\n",
        "    capacity = len(idxs)\n",
        "    occupy = sum([q[i, j] for j in range(Nc) for i in idxs])\n",
        "    table_functions.append((-occupy + capacity) * occupy)\n",
        "g1 = sum(table_functions)"
      ]
    },
    {
      "cell_type": "markdown",
      "source": [
        "#### ２．グループが同じ人はなるべく近いテーブルに座らせる"
      ],
      "metadata": {
        "id": "e1MUDyhmgrjk"
      }
    },
    {
      "cell_type": "markdown",
      "metadata": {
        "id": "h4PqxfwXONEM"
      },
      "source": [
        "\n",
        "言い換えると，同じグループの人の位置がなるべく近くなればよいということになります。方針としては以下です。\n",
        "\n",
        "- グループごとに割り当てられたテーブルの平均位置座標を算出する。\n",
        "- 各座標軸それぞれについて，グループ内の位置の分散を計算する\n",
        "- 各グループごとの分散の和が最小になるようにする\n",
        "\n",
        "$$\n",
        "min \\lbrace \\sum_{j_g} (\\sum_{j \\in j_g} q_{i, j} \\cdot x_{center}^{(j)}  - avg_x^{(j_g)}) ^ 2  / n_c^{(j_g)} \\rbrace \\\\\n",
        "min \\lbrace \\sum_{j_g} (\\sum_{j \\in j_g} q_{i, j} \\cdot y_{center}^{(j)}  - avg_y^{(j_g)}) ^ 2  / n_c^{(j_g)} \\rbrace \\\\\n",
        "$$\n",
        "\n",
        "ここで，各変数は以下を意味することとします。\n",
        "\n",
        "\n",
        "- $(x_{center}^{(j)}, y_{center}^{(j)})$：各人が割り当てられたテーブルの中心位置\n",
        "- $j_g$：人のグループ\n",
        "- $(avg_{x}^{(j_g)}, avg_{y}^{(j_g)})$：各グループごとの平均位置座標\n",
        "- $n_c^{(j_g)}$：各グループに含まれる人の数\n",
        "\n"
      ]
    },
    {
      "cell_type": "code",
      "execution_count": 80,
      "metadata": {
        "id": "Fn8p_otmbHnN"
      },
      "outputs": [],
      "source": [
        "# グループ内のお互いの距離がなるべく近づくようにする\n",
        "# グループ内の分散最小化\n",
        "\n",
        "g_member_indexes = group_member_indexes(customer_groups)\n",
        "table_indexes = range(len(tables))\n",
        "# abs_dist_map = calc_abs_distance_map(tables)\n",
        "center_points = calc_center_point_map(tables)\n",
        "\n",
        "ux_functions = []\n",
        "group_avg_coords = []\n",
        "for member_indexes in g_member_indexes:\n",
        "    n_c = len(member_indexes)\n",
        "    # 原点からのグループ平均座標\n",
        "    # avg = sum([q[i, j] * abs_dist_map[i] for i in table_indexes for j in member_indexes]) / n_c\n",
        "\n",
        "    avg_coord_x = sum([q[i, j] * center_points[i][0] for i in table_indexes for j in member_indexes]) / n_c\n",
        "    avg_coord_y = sum([q[i, j] * center_points[i][1] for i in table_indexes for j in member_indexes]) / n_c\n",
        "    group_avg_coords.append((avg_coord_x, avg_coord_y))\n",
        "\n",
        "    # グループ内距離分散\n",
        "    var_x = sum([(sum([q[i, j] * center_points[i][0] for i in table_indexes]) - avg_coord_x) ** 2 for j in member_indexes]) / n_c\n",
        "    var_y = sum([(sum([q[i, j] * center_points[i][1] for i in table_indexes]) - avg_coord_y) ** 2 for j in member_indexes]) / n_c\n",
        "    ux_functions.append(var_x)\n",
        "    ux_functions.append(var_y)\n",
        "\n",
        "\n",
        "g2 = sum(ux_functions) "
      ]
    },
    {
      "cell_type": "markdown",
      "source": [
        "#### ３．他のグループとの距離はなるべく離す\n",
        "\n",
        "２と同様に考え，グループごとの平均位置の分散が最大になるようにします。\n",
        "\n",
        "$$\n",
        "\\max( \\sum_{j_g} \\lbrace (avg_{x}^{(j_g)} - \\text{avg}_x) ^ 2 \\rbrace ) / N_g \\\\ \n",
        "\\max( \\sum_{j_g} \\lbrace (avg_{y}^{(j_g)} - \\text{avg}_y) ^ 2 \\rbrace ) / N_g \n",
        "$$\n",
        "\n",
        "ここで，\n",
        "\n",
        "- ${N_g}$：グループの数\n",
        "- $(avg_{x}, avg_{y})$：グループ単位の平均位置座標\n",
        "\n",
        "また実装上，目的関数は最小値を求めるようにしたいので，最後にマイナスをつけています。\n"
      ],
      "metadata": {
        "id": "LA7JOMRcpBbr"
      }
    },
    {
      "cell_type": "code",
      "source": [
        "# グループ間の距離分散を最大にする\n",
        "group_num= len(group_avg_coords)\n",
        "group_global_avg_x = sum([coord[0] for coord in group_avg_coords]) / group_num\n",
        "group_global_avg_y = sum([coord[1] for coord in group_avg_coords]) / group_num\n",
        "\n",
        "group_vars_x = sum([(group_avg_coords[i][0] - group_global_avg_x)**2 for i in range(group_num)]) / group_num\n",
        "group_vars_y = sum([(group_avg_coords[i][1] - group_global_avg_y)**2 for i in range(group_num)]) / group_num\n",
        "\n",
        "g3 = -(group_vars_x + group_vars_y)"
      ],
      "metadata": {
        "id": "vohZPQpKo00K"
      },
      "execution_count": 81,
      "outputs": []
    },
    {
      "cell_type": "markdown",
      "metadata": {
        "id": "9ygC8hK6qVVZ"
      },
      "source": [
        "## 求解\n",
        "\n",
        "前節で設定した制約条件と目的関数をまとめて問題を解きます。\n",
        "また，各目的関数には重要度やオーダーに応じて重みを付けます。"
      ]
    },
    {
      "cell_type": "code",
      "execution_count": 82,
      "metadata": {
        "id": "GwlPHNzcXzuv"
      },
      "outputs": [],
      "source": [
        "# 制約条件と目的関数をまとめる\n",
        "f = 0.1 * g1 + g2 + 0.01 * g3 + sum(table_constraints) + sum(overlap_constraints)"
      ]
    },
    {
      "cell_type": "code",
      "execution_count": 83,
      "metadata": {
        "colab": {
          "base_uri": "https://localhost:8080/"
        },
        "id": "ILJGyENhpmYY",
        "outputId": "d46df5d6-6eb6-4c48-f627-96fb6530f8ca"
      },
      "outputs": [
        {
          "output_type": "stream",
          "name": "stdout",
          "text": [
            "Number of solutions: 84\n"
          ]
        }
      ],
      "source": [
        "# クライアントの設定\n",
        "client = FixstarsClient()\n",
        "client.parameters.timeout = 1000  # タイムアウト1秒\n",
        "client.token = FIXSTAR_CLIENT_TOKEN\n",
        "client.parameters.outputs.duplicate = True  # 同じエネルギー値の解を列挙するオプション（解が複数個あるため）\n",
        "\n",
        "# ソルバの設定と結果の取得\n",
        "solver = Solver(client)\n",
        "\n",
        "result = solver.solve(f)\n",
        "print(f\"Number of solutions: {len(result)}\")"
      ]
    },
    {
      "cell_type": "markdown",
      "metadata": {
        "id": "wq85zc6Jqful"
      },
      "source": [
        "## 結果の確認\n",
        "\n",
        "### 配置の描画\n",
        "\n",
        "求めた結果を描画してみます。同じグループの人を同じ色で塗分けています。適切に配置できていることが確認できます。"
      ]
    },
    {
      "cell_type": "code",
      "execution_count": 84,
      "metadata": {
        "colab": {
          "base_uri": "https://localhost:8080/",
          "height": 413
        },
        "id": "AQ4sdKNjuGXD",
        "outputId": "124fdf66-40d3-4dee-e707-b6611759789c"
      },
      "outputs": [
        {
          "output_type": "execute_result",
          "data": {
            "text/plain": [
              "(<Figure size 432x432 with 1 Axes>,\n",
              " <matplotlib.axes._subplots.AxesSubplot at 0x7fefd6c02510>)"
            ]
          },
          "metadata": {},
          "execution_count": 84
        },
        {
          "output_type": "display_data",
          "data": {
            "image/png": "[encoded data removed]",
            "text/plain": [
              "<Figure size 432x432 with 1 Axes>"
            ]
          },
          "metadata": {
            "needs_background": "light"
          }
        }
      ],
      "source": [
        "# 求めた解を元の変数に代入\n",
        "values = result[0].values\n",
        "solution = q.decode(values)\n",
        "draw_solutions(solution, tables, customer_groups, xmax=10, ymax=10, figsize=(6, 6))"
      ]
    },
    {
      "cell_type": "markdown",
      "metadata": {
        "id": "auIoYSpiqrOh"
      },
      "source": [
        "### 各目的関数の最終値を確認"
      ]
    },
    {
      "cell_type": "code",
      "execution_count": 85,
      "metadata": {
        "colab": {
          "base_uri": "https://localhost:8080/"
        },
        "id": "h2TxupEv0sAH",
        "outputId": "0c34c32a-a207-460c-9906-cda46c664b70"
      },
      "outputs": [
        {
          "output_type": "stream",
          "name": "stdout",
          "text": [
            " g1: 0.0,\n",
            " g2: 4.583333333333328, \n",
            " g4: -11.546874999999998\n"
          ]
        }
      ],
      "source": [
        "val_g1 = g1.replace_all(values)\n",
        "val_g2 = g2.replace_all(values)\n",
        "val_g3 = g3.replace_all(values)\n",
        "print(f\" g1: {val_g1},\\n g2: {val_g2}, \\n g4: {val_g3}\")"
      ]
    },
    {
      "cell_type": "markdown",
      "source": [
        "## まとめ\n",
        "\n",
        "\n",
        "アニーリングマシンを用いて座席配置問題を解くために，イジングモデルを定義し適切に解を導出できることを確認できました。\n",
        "\n",
        "改善案としては，以下が挙げられます。\n",
        "\n",
        "- 定員オーバーの場合（座らせる席がない場合）を考慮する\n",
        "- 希望座席，カウンター希望などの希望条件を考慮する\n",
        "- 離着席のタイミングを考慮する（例：先に待っている４人を飛ばして，後のお一人様を通す。）\n",
        "\n"
      ],
      "metadata": {
        "id": "E7c69TENsWYK"
      }
    },
    {
      "cell_type": "code",
      "source": [
        ""
      ],
      "metadata": {
        "id": "m5jsSw6GuQWc"
      },
      "execution_count": null,
      "outputs": []
    }
  ],
  "metadata": {
    "colab": {
      "collapsed_sections": [],
      "name": "seat_allocation.ipynb",
      "provenance": [],
      "toc_visible": true
    },
    "kernelspec": {
      "display_name": "Python 3",
      "language": "python",
      "name": "python3"
    },
    "language_info": {
      "codemirror_mode": {
        "name": "ipython",
        "version": 3
      },
      "file_extension": ".py",
      "mimetype": "text/x-python",
      "name": "python",
      "nbconvert_exporter": "python",
      "pygments_lexer": "ipython3",
      "version": "3.7.4"
    }
  },
  "nbformat": 4,
  "nbformat_minor": 0
}